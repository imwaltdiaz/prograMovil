{
 "cells": [
  {
   "cell_type": "markdown",
   "metadata": {},
   "source": [
    "# Llenado de Tablas\n",
    "\n",
    "Instalar dependencias:\n",
    "\n",
    "    pip install Faker\n",
    "\n",
    "Importaciones globales:    "
   ]
  },
  {
   "cell_type": "code",
   "execution_count": 1,
   "metadata": {},
   "outputs": [],
   "source": [
    "from faker import Faker\n",
    "import random\n",
    "import datetime"
   ]
  },
  {
   "cell_type": "markdown",
   "metadata": {},
   "source": [
    "Instancia de Faker"
   ]
  },
  {
   "cell_type": "code",
   "execution_count": null,
   "metadata": {},
   "outputs": [],
   "source": [
    "fake = Faker()"
   ]
  },
  {
   "cell_type": "markdown",
   "metadata": {},
   "source": [
    "Generar inserts para la tabla quizzes"
   ]
  },
  {
   "cell_type": "code",
   "execution_count": 62,
   "metadata": {},
   "outputs": [
    {
     "name": "stdout",
     "output_type": "stream",
     "text": [
      "Generación de registros completada. Archivo 'inserts_quizzes.sql' creado.\n"
     ]
    }
   ],
   "source": [
    "# Definir una lista para almacenar las sentencias INSERT\n",
    "inserts = []\n",
    "id = 1\n",
    "# Generar 200 registros\n",
    "for _ in range(200):\n",
    "    # Generar datos ficticios\n",
    "    statement = fake.sentence(nb_words=16, variable_nb_words=True)\n",
    "    created = fake.date_time_this_decade(before_now=True, after_now=False)\n",
    "    user_id = random.randint(1,5)\n",
    "    points = random.randint(0,100)\n",
    "    insert_statement = f\"INSERT INTO quizzes (id, statement, created, user_id, points) VALUES ({id},'{statement}', '{created.strftime('%Y-%m-%d %H:%M:%S')}', {user_id}, {points});\"\n",
    "    # IINSERT INTO quizzes (id, statement, created, user_id, points) VALUES (1,'asfasdf asdfa ', '205111/123/*12300', 1, 15);\"\n",
    "    inserts.append(insert_statement)\n",
    "    id = id + 1\n",
    "# Escribir todas las sentencias INSERT en un archivo SQL\n",
    "with open(\"inserts_quizzes.sql\", \"w\") as f:\n",
    "    f.write(\"\\n\".join(inserts))\n",
    "print(\"Generación de registros completada. Archivo 'inserts_quizzes.sql' creado.\")"
   ]
  },
  {
   "cell_type": "markdown",
   "metadata": {},
   "source": [
    "Llenar users_answers"
   ]
  },
  {
   "cell_type": "code",
   "execution_count": 65,
   "metadata": {},
   "outputs": [
    {
     "name": "stdout",
     "output_type": "stream",
     "text": [
      "Generación de registros completada. Archivo 'inserts_users_answers.sql' creado.\n"
     ]
    }
   ],
   "source": [
    "# Definir una lista para almacenar las sentencias INSERT\n",
    "inserts = []\n",
    "id = 1\n",
    "# Generar 200 registros\n",
    "for _ in range(200):\n",
    "    # Generar datos ficticios\n",
    "    user_id = random.randint(1,5)\n",
    "    quizz_id = random.randint(1,200)\n",
    "    question_id = random.randint(1,100)\n",
    "    alternative_id = random.randint(1,100)\n",
    "    answered_at = fake.date_time_this_decade(before_now=True, after_now=False)\n",
    "    insert_statement = f\"INSERT INTO users_answers (id, user_id, quiz_id, question_id, alternative_id, answered_at) VALUES ({id},{user_id}, {quizz_id}, {question_id}, {alternative_id}, '{created.strftime('%Y-%m-%d %H:%M:%S')}');\"\n",
    "    inserts.append(insert_statement)\n",
    "    id = id + 1\n",
    "# Escribir todas las sentencias INSERT en un archivo SQL\n",
    "with open(\"inserts_users_answers.sql\", \"w\") as f:\n",
    "    f.write(\"\\n\".join(inserts))\n",
    "print(\"Generación de registros completada. Archivo 'inserts_users_answers.sql' creado.\")"
   ]
  },
  {
   "cell_type": "markdown",
   "metadata": {},
   "source": [
    "LLenar quizzes question"
   ]
  },
  {
   "cell_type": "code",
   "execution_count": null,
   "metadata": {},
   "outputs": [
    {
     "name": "stdout",
     "output_type": "stream",
     "text": [
      "Generación de registros completada. Archivo 'inserts_quizzes_question.sql' creado.\n"
     ]
    }
   ],
   "source": [
    "# Definir una lista para almacenar las sentencias INSERT\n",
    "inserts = []\n",
    "id = 1\n",
    "# Generar 200 registros\n",
    "valoraciones = ['Valorado', 'Por Valorar']\n",
    "for _ in range(200):\n",
    "    # Generar datos ficticios\n",
    "    quizz_id = random.randint(1,200)\n",
    "    question_id = random.randint(1,100)\n",
    "    valoracion = valoraciones[random.randint(0,1)]\n",
    "    insert_statement = f\"INSERT INTO quizzes_questions (id, quiz_id, question_id) VALUES ({id},{quizz_id}, {question_id});\"\n",
    "    inserts.append(insert_statement)\n",
    "    id = id + 1\n",
    "# Escribir todas las sentencias INSERT en un archivo SQL\n",
    "with open(\"inserts_quizzes_question.sql\", \"w\") as f:\n",
    "    f.write(\"\\n\".join(inserts))\n",
    "print(\"Generación de registros completada. Archivo 'inserts_quizzes_question.sql' creado.\")"
   ]
  }
 ],
 "metadata": {
  "kernelspec": {
   "display_name": "base",
   "language": "python",
   "name": "python3"
  },
  "language_info": {
   "codemirror_mode": {
    "name": "ipython",
    "version": 3
   },
   "file_extension": ".py",
   "mimetype": "text/x-python",
   "name": "python",
   "nbconvert_exporter": "python",
   "pygments_lexer": "ipython3",
   "version": "3.12.7"
  }
 },
 "nbformat": 4,
 "nbformat_minor": 2
}
